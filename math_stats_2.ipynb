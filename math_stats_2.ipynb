{
 "cells": [
  {
   "cell_type": "markdown",
   "metadata": {},
   "source": [
    "2. Дана некоторая выборка СВ x1, x2,…, xn (будет подаваться через файл). Оцените параметры распределения для: <br>\n",
    "а) нормального распределения <br>\n",
    "б) равномерного распределения <br>\n",
    "в) экспоненциального распределения <br>\n"
   ]
  },
  {
   "cell_type": "code",
   "execution_count": 1,
   "metadata": {},
   "outputs": [],
   "source": [
    "import pandas as pd\n",
    "import numpy as np"
   ]
  },
  {
   "cell_type": "markdown",
   "metadata": {},
   "source": [
    "### Normal d."
   ]
  },
  {
   "cell_type": "code",
   "execution_count": 3,
   "metadata": {},
   "outputs": [],
   "source": [
    "norm_d = pd.DataFrame(np.random.normal(size=1000))\n"
   ]
  },
  {
   "cell_type": "markdown",
   "metadata": {},
   "source": [
    "Params:\n",
    "- mean (strive to 0)\n",
    "- std / variance (strive to 1)\n",
    "- skewness\n",
    "- kurtosiss"
   ]
  },
  {
   "cell_type": "code",
   "execution_count": 12,
   "metadata": {},
   "outputs": [
    {
     "name": "stdout",
     "output_type": "stream",
     "text": [
      "mean -0.0014523638920893322 \n",
      "std 1.0145563081351887 \n",
      "size 1000\n"
     ]
    }
   ],
   "source": [
    "print('mean', norm_d.mean()[0], '\\nstd', norm_d.std()[0])"
   ]
  },
  {
   "cell_type": "markdown",
   "metadata": {},
   "source": [
    "### Uniform d."
   ]
  },
  {
   "cell_type": "code",
   "execution_count": 13,
   "metadata": {},
   "outputs": [],
   "source": [
    "uni_d = pd.DataFrame(np.random.uniform(size=1000))"
   ]
  },
  {
   "cell_type": "markdown",
   "metadata": {},
   "source": [
    "Params:\n",
    "- a = minimum (0 by def.)\n",
    "- b = maximum (1 by def.)"
   ]
  },
  {
   "cell_type": "code",
   "execution_count": 17,
   "metadata": {},
   "outputs": [
    {
     "name": "stdout",
     "output_type": "stream",
     "text": [
      "a 0.0002671339580899712 \n",
      "b 0.9988194827884849\n"
     ]
    }
   ],
   "source": [
    "print('a', uni_d.min()[0], '\\nb', uni_d.max()[0])"
   ]
  },
  {
   "cell_type": "markdown",
   "metadata": {},
   "source": [
    "### Exonential d."
   ]
  },
  {
   "cell_type": "code",
   "execution_count": 18,
   "metadata": {},
   "outputs": [],
   "source": [
    "exp_d = pd.DataFrame(np.random.exponential(size=1000))"
   ]
  },
  {
   "cell_type": "markdown",
   "metadata": {},
   "source": [
    "Params:\n",
    "- lambda (the rate of change) (1 by def.)"
   ]
  },
  {
   "cell_type": "code",
   "execution_count": 20,
   "metadata": {},
   "outputs": [
    {
     "name": "stdout",
     "output_type": "stream",
     "text": [
      "lambda 1.0194562613753053\n"
     ]
    }
   ],
   "source": [
    "print('lambda', exp_d.mean()[0])"
   ]
  },
  {
   "cell_type": "code",
   "execution_count": null,
   "metadata": {},
   "outputs": [],
   "source": []
  }
 ],
 "metadata": {
  "kernelspec": {
   "display_name": "Python 3.8.13 ('ml')",
   "language": "python",
   "name": "python3"
  },
  "language_info": {
   "codemirror_mode": {
    "name": "ipython",
    "version": 3
   },
   "file_extension": ".py",
   "mimetype": "text/x-python",
   "name": "python",
   "nbconvert_exporter": "python",
   "pygments_lexer": "ipython3",
   "version": "3.8.13"
  },
  "orig_nbformat": 4,
  "vscode": {
   "interpreter": {
    "hash": "84180747aa78c4fea4b82a393b7383e3a678433b417931ac6a4814037dd2dbd2"
   }
  }
 },
 "nbformat": 4,
 "nbformat_minor": 2
}
